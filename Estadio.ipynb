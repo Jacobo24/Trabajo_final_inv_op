{
 "cells": [
  {
   "cell_type": "markdown",
   "metadata": {},
   "source": [
    "# Proyecto investigación operativa"
   ]
  },
  {
   "cell_type": "markdown",
   "metadata": {},
   "source": [
    "Tenemo un estadio de fútbol y queremos ubicar los asientos conforme obtengamos la mayor cantidad de beneficio posible. Los precios de las entradas van acorde a como de bien se ve desde cada asiento. Por tanto, las de tribuna y preferencia son las más caras, valiendo tribuna 20 euros, y preferencia 15. Mientras que las de pabellón y y maratón son de 10 y 5 eureos respectivamente.\n",
    "\n",
    "El número de entradas de las que disponemos son 100 para todo el estadio. Pero hay que tener en cuenta que las de maratón son 2 veces más vendidas que las de tribuna, salvo por como máximo 10 entradas."
   ]
  },
  {
   "cell_type": "markdown",
   "metadata": {},
   "source": [
    "#### Variables de Decisión\n",
    "$x_1$: Número de entradas vendidas de Tribuna.\n",
    "$x_2$: Número de entradas vendidas de Preferencia.\n",
    "$x_3$: Número de entradas vendidas de Pabellón.\n",
    "$x_4$: Número de entradas vendidas de Maratón.\n",
    "\n",
    "#### Función Objetivo\n",
    "Maximizar el beneficio total:\n",
    "$$\n",
    "Z = 20x_1 + 15x_2 + 10x_3 + 5x_4\n",
    "$$\n",
    "\n",
    "#### Restricciones\n",
    "1. Restricción del número total de entradas:\n",
    "$$\n",
    "x_1 + x_2 + x_3 + x_4 \\leq 100\n",
    "$$\n",
    "\n",
    "2. Restricción de las entradas de Maratón:\n",
    "$$\n",
    "x_1 - 2x_4\\leq  10\n",
    "$$\n",
    "\n",
    "3. Restricción de no negatividad:\n",
    "$$\n",
    "x_1 , x_2 , x_3 , x_4 \\geq 0\n",
    "$$\n"
   ]
  },
  {
   "cell_type": "code",
   "execution_count": null,
   "metadata": {},
   "outputs": [],
   "source": [
    "# Importar Pyomo\n",
    "from pyomo.environ import *\n",
    "\n",
    "# Crear el modelo\n",
    "model = ConcreteModel()\n",
    "\n",
    "# Definir las variables\n",
    "model.x1 = Var(within=NonNegativeReals)\n",
    "model.x2 = Var(within=NonNegativeReals)\n",
    "\n",
    "# Definir la función objetivo\n",
    "model.obj = Objective(expr=40*model.x1 + 30*model.x2, sense=maximize)\n",
    "\n",
    "# Definir las restricciones\n",
    "model.constraint1 = Constraint(expr=2*model.x1 + 3*model.x2 <= 60)\n",
    "model.constraint2 = Constraint(expr=model.x1 + 2*model.x2 <= 40)\n",
    "\n",
    "# Resolver el problema\n",
    "solver = SolverFactory('glpk')\n",
    "solver.solve(model)\n",
    "\n",
    "# Mostrar los resultados\n",
    "model.x1.display()\n",
    "model.x2.display()\n",
    "model.obj.display()"
   ]
  }
 ],
 "metadata": {
  "kernelspec": {
   "display_name": "base",
   "language": "python",
   "name": "python3"
  },
  "language_info": {
   "name": "python",
   "version": "3.9.13"
  }
 },
 "nbformat": 4,
 "nbformat_minor": 2
}
